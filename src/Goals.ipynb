{
 "cells": [
  {
   "cell_type": "markdown",
   "source": [
    "进球数分析"
   ],
   "metadata": {
    "collapsed": false
   },
   "id": "a55f906a7fbc148c"
  },
  {
   "cell_type": "code",
   "execution_count": 1,
   "id": "initial_id",
   "metadata": {
    "collapsed": true,
    "ExecuteTime": {
     "end_time": "2024-03-02T12:06:17.710875600Z",
     "start_time": "2024-03-02T12:06:12.855755700Z"
    }
   },
   "outputs": [
    {
     "name": "stdout",
     "output_type": "stream",
     "text": [
      "root\n",
      " |-- Year: string (nullable = true)\n",
      " |-- Datetime: string (nullable = true)\n",
      " |-- Stage: string (nullable = true)\n",
      " |-- Stadium: string (nullable = true)\n",
      " |-- City: string (nullable = true)\n",
      " |-- Home Team Name: string (nullable = true)\n",
      " |-- Home Team Goals: string (nullable = true)\n",
      " |-- Away Team Goals: string (nullable = true)\n",
      " |-- Away Team Name: string (nullable = true)\n",
      " |-- Attendance: string (nullable = true)\n",
      " |-- Half-time Home Goals: string (nullable = true)\n",
      " |-- Half-time Away Goals: string (nullable = true)\n",
      " |-- Referee: string (nullable = true)\n",
      " |-- Assistant 1: string (nullable = true)\n",
      " |-- Assistant 2: string (nullable = true)\n",
      " |-- RoundID: string (nullable = true)\n",
      " |-- MatchID: string (nullable = true)\n",
      " |-- Home Team Initials: string (nullable = true)\n",
      " |-- Away Team Initials: string (nullable = true)\n"
     ]
    }
   ],
   "source": [
    "from pyspark.sql import SparkSession\n",
    "spark = SparkSession.builder.getOrCreate()\n",
    "matches = spark.read.format(\"csv\").option(\"header\",True).option(\"encoding\",\"utf-8\").option(\"sep\",\",\").load(\"../dataset/WorldCupMatches.csv\")\n",
    "matches.createTempView(\"goalsGame\")\n",
    "matches.printSchema()"
   ]
  },
  {
   "cell_type": "code",
   "execution_count": 2,
   "outputs": [
    {
     "name": "stdout",
     "output_type": "stream",
     "text": [
      "+-----------+-----------+\n",
      "|    country|total_goals|\n",
      "+-----------+-----------+\n",
      "|     Brazil|        225|\n",
      "|  Argentina|        133|\n",
      "| Germany FR|        131|\n",
      "|      Italy|        128|\n",
      "|     France|        108|\n",
      "|    Germany|        104|\n",
      "|      Spain|         92|\n",
      "|Netherlands|         91|\n",
      "|    Hungary|         87|\n",
      "|    Uruguay|         80|\n",
      "+-----------+-----------+\n"
     ]
    }
   ],
   "source": [
    "top10_goals_num_by_country = spark.sql('''\n",
    "SELECT country, SUM(goals) AS total_goals FROM\n",
    "((SELECT `Home Team Name` AS country, SUM(CAST(`Home Team Goals` AS INTEGER)) AS goals FROM goalsGame GROUP BY country)\n",
    "UNION ALL\n",
    "(SELECT `Away Team Name` AS country, SUM(CAST(`Away Team Goals` AS INTEGER)) AS goals FROM goalsGame GROUP BY country)) t\n",
    "GROUP BY country Order BY total_goals DESC LIMIT 10\n",
    "''').show()"
   ],
   "metadata": {
    "collapsed": false,
    "ExecuteTime": {
     "end_time": "2024-03-02T12:06:19.805457Z",
     "start_time": "2024-03-02T12:06:18.980761400Z"
    }
   },
   "id": "1b4f69b5a5f46d17"
  },
  {
   "cell_type": "code",
   "execution_count": 3,
   "outputs": [
    {
     "name": "stdout",
     "output_type": "stream",
     "text": [
      "+-----------+-----------+----------+----------+\n",
      "|    country|total_goals|home_goals|away_goals|\n",
      "+-----------+-----------+----------+----------+\n",
      "|     Brazil|        225|       180|        45|\n",
      "|  Argentina|        133|       111|        22|\n",
      "| Germany FR|        131|        99|        32|\n",
      "|      Italy|        128|        99|        29|\n",
      "|     France|        108|        68|        40|\n",
      "|    Germany|        104|        69|        35|\n",
      "|      Spain|         92|        50|        42|\n",
      "|Netherlands|         91|        51|        40|\n",
      "|    Hungary|         87|        73|        14|\n",
      "|    Uruguay|         80|        62|        18|\n",
      "+-----------+-----------+----------+----------+\n"
     ]
    }
   ],
   "source": [
    "top10_goals_num_by_country_2 = spark.sql('''\n",
    "SELECT country, home_goals+away_goals AS total_goals,home_goals,away_goals FROM \n",
    "(SELECT `Home Team Name` AS country, SUM(CAST(`Home Team Goals` AS INTEGER)) AS home_goals FROM goalsGame GROUP BY country) t1\n",
    " JOIN (SELECT `Away Team Name` AS country, SUM(CAST(`Away Team Goals` AS INTEGER)) AS away_goals FROM goalsGame GROUP BY country) t2 \n",
    " USING(country)\n",
    " ORDER BY total_goals DESC LIMIT 10\n",
    "''').show()"
   ],
   "metadata": {
    "collapsed": false,
    "ExecuteTime": {
     "end_time": "2024-03-02T12:06:21.021165800Z",
     "start_time": "2024-03-02T12:06:20.709073200Z"
    }
   },
   "id": "e0157b86e15e9e8b"
  }
 ],
 "metadata": {
  "kernelspec": {
   "display_name": "Python 3",
   "language": "python",
   "name": "python3"
  },
  "language_info": {
   "codemirror_mode": {
    "name": "ipython",
    "version": 2
   },
   "file_extension": ".py",
   "mimetype": "text/x-python",
   "name": "python",
   "nbconvert_exporter": "python",
   "pygments_lexer": "ipython2",
   "version": "2.7.6"
  }
 },
 "nbformat": 4,
 "nbformat_minor": 5
}
