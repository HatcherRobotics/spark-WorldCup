{
 "cells": [
  {
   "cell_type": "markdown",
   "source": [
    "进入决赛后夺冠以来分析"
   ],
   "metadata": {
    "collapsed": false
   },
   "id": "4688d09d38e47b06"
  },
  {
   "cell_type": "code",
   "execution_count": 1,
   "id": "initial_id",
   "metadata": {
    "collapsed": true,
    "ExecuteTime": {
     "end_time": "2024-03-03T14:00:24.005767800Z",
     "start_time": "2024-03-03T14:00:18.441358100Z"
    }
   },
   "outputs": [
    {
     "name": "stdout",
     "output_type": "stream",
     "text": [
      "root\n",
      " |-- Year: string (nullable = true)\n",
      " |-- HostCountry: string (nullable = true)\n",
      " |-- Winner: string (nullable = true)\n",
      " |-- Second: string (nullable = true)\n",
      " |-- Third: string (nullable = true)\n",
      " |-- Fourth: string (nullable = true)\n",
      " |-- GoalsScored: string (nullable = true)\n",
      " |-- QualifiedTeams: string (nullable = true)\n",
      " |-- MatchesPlayed: string (nullable = true)\n",
      " |-- Attendance: string (nullable = true)\n",
      " |-- HostContinent: string (nullable = true)\n",
      " |-- WinnerContinent: string (nullable = true)\n"
     ]
    }
   ],
   "source": [
    "from pyspark.sql import SparkSession\n",
    "spark = SparkSession.builder.getOrCreate()\n",
    "summary = spark.read.format(\"csv\").option(\"header\",True).option(\"encoding\",\"utf-8\").option(\"sep\",\",\").load(\"../dataset/WorldCupsSummary.csv\")\n",
    "summary.createTempView(\"summary_tb\")\n",
    "summary.printSchema()"
   ]
  },
  {
   "cell_type": "code",
   "execution_count": 2,
   "outputs": [],
   "source": [
    "percentage_of_winning_final = spark.sql('''\n",
    "SELECT IFNULL(Winner,Second) AS country, ROUND(IFNULL((win_num/(win_num+sec_num))*100,0),2) AS percentage FROM\n",
    "(SELECT Winner,COUNT(Winner) AS win_num FROM summary_tb GROUP BY Winner) AS t1\n",
    "FULL OUTER JOIN \n",
    "(SELECT Second,COUNT(Second) AS sec_num FROM summary_tb GROUP BY Second) AS t2\n",
    "ON t1.Winner=t2.Second ORDER BY percentage DESC\n",
    "''')"
   ],
   "metadata": {
    "collapsed": false,
    "ExecuteTime": {
     "end_time": "2024-03-03T14:00:25.038559400Z",
     "start_time": "2024-03-03T14:00:24.938829700Z"
    }
   },
   "id": "90559cf982f63d95"
  },
  {
   "cell_type": "code",
   "execution_count": 3,
   "outputs": [
    {
     "name": "stdout",
     "output_type": "stream",
     "text": [
      "+--------------+----------+\n",
      "|       country|percentage|\n",
      "+--------------+----------+\n",
      "|        Brazil|     71.43|\n",
      "|        France|     66.67|\n",
      "|         Italy|     66.67|\n",
      "|       Germany|      50.0|\n",
      "|    Germany FR|      50.0|\n",
      "|     Argentina|      40.0|\n",
      "|       Croatia|       0.0|\n",
      "|Czechoslovakia|       0.0|\n",
      "|       England|       0.0|\n",
      "|       Hungary|       0.0|\n",
      "|   Netherlands|       0.0|\n",
      "|         Spain|       0.0|\n",
      "|        Sweden|       0.0|\n",
      "|       Uruguay|       0.0|\n",
      "+--------------+----------+\n"
     ]
    }
   ],
   "source": [
    "percentage_of_winning_final.write \\\n",
    "    .format(\"jdbc\") \\\n",
    "    .option(\"url\", \"jdbc:mysql://localhost:3306/worldcup\") \\\n",
    "    .option(\"dbtable\", \"percentage_of_winning_final\") \\\n",
    "    .option(\"user\", \"root\") \\\n",
    "    .option(\"password\", \"\") \\\n",
    "    .option(\"driver\", \"com.mysql.cj.jdbc.Driver\") \\\n",
    "    .mode(\"append\") \\\n",
    "    .save()\n",
    "percentage_of_winning_final.show()"
   ],
   "metadata": {
    "collapsed": false,
    "ExecuteTime": {
     "end_time": "2024-03-03T14:00:27.027007300Z",
     "start_time": "2024-03-03T14:00:25.655724100Z"
    }
   },
   "id": "212cd38db5db3850"
  },
  {
   "cell_type": "code",
   "execution_count": null,
   "outputs": [],
   "source": [],
   "metadata": {
    "collapsed": false
   },
   "id": "84b669f25cfe8eab"
  }
 ],
 "metadata": {
  "kernelspec": {
   "display_name": "Python 3",
   "language": "python",
   "name": "python3"
  },
  "language_info": {
   "codemirror_mode": {
    "name": "ipython",
    "version": 2
   },
   "file_extension": ".py",
   "mimetype": "text/x-python",
   "name": "python",
   "nbconvert_exporter": "python",
   "pygments_lexer": "ipython2",
   "version": "2.7.6"
  }
 },
 "nbformat": 4,
 "nbformat_minor": 5
}
