{
 "cells": [
  {
   "cell_type": "markdown",
   "source": [
    "进入决赛后夺冠以来分析"
   ],
   "metadata": {
    "collapsed": false
   },
   "id": "4688d09d38e47b06"
  },
  {
   "cell_type": "code",
   "execution_count": 1,
   "id": "initial_id",
   "metadata": {
    "collapsed": true,
    "ExecuteTime": {
     "end_time": "2024-03-01T15:01:44.625353900Z",
     "start_time": "2024-03-01T15:01:39.723716400Z"
    }
   },
   "outputs": [
    {
     "data": {
      "text/plain": "Row(Year='1930', HostCountry='Uruguay', Winner='Uruguay', Second='Argentina', Third='USA', Fourth='Yugoslavia', GoalsScored='70', QualifiedTeams='13', MatchesPlayed='18', Attendance='590549', HostContinent='America', WinnerContinent='America')"
     },
     "execution_count": 1,
     "metadata": {},
     "output_type": "execute_result"
    }
   ],
   "source": [
    "from pyspark.sql import SparkSession\n",
    "spark = SparkSession.builder.getOrCreate()\n",
    "summary = spark.read.format(\"csv\").option(\"header\",True).option(\"encoding\",\"utf-8\").option(\"sep\",\",\").load(\"../dataset/WorldCupsSummary.csv\")\n",
    "summary.createTempView(\"summary_tb\")\n",
    "summary.head()"
   ]
  },
  {
   "cell_type": "code",
   "execution_count": 9,
   "outputs": [
    {
     "name": "stdout",
     "output_type": "stream",
     "text": [
      "+--------------+----------+\n",
      "|       country|percentage|\n",
      "+--------------+----------+\n",
      "|        Brazil|     71.43|\n",
      "|        France|     66.67|\n",
      "|         Italy|     66.67|\n",
      "|       Germany|      50.0|\n",
      "|    Germany FR|      50.0|\n",
      "|     Argentina|      40.0|\n",
      "|       Croatia|       0.0|\n",
      "|Czechoslovakia|       0.0|\n",
      "|       England|       0.0|\n",
      "|       Hungary|       0.0|\n",
      "|   Netherlands|       0.0|\n",
      "|         Spain|       0.0|\n",
      "|        Sweden|       0.0|\n",
      "|       Uruguay|       0.0|\n",
      "+--------------+----------+\n"
     ]
    }
   ],
   "source": [
    "percentage_of_winning_final = spark.sql('''\n",
    "SELECT IFNULL(Winner,Second) AS country, ROUND(IFNULL((win_num/(win_num+sec_num))*100,0),2) AS percentage FROM\n",
    "(SELECT Winner,COUNT(Winner) AS win_num FROM summary_tb GROUP BY Winner) AS t1\n",
    "FULL OUTER JOIN \n",
    "(SELECT Second,COUNT(Second) AS sec_num FROM summary_tb GROUP BY Second) AS t2\n",
    "ON t1.Winner=t2.Second ORDER BY percentage DESC\n",
    "''').show()"
   ],
   "metadata": {
    "collapsed": false,
    "ExecuteTime": {
     "end_time": "2024-03-01T15:16:45.975074900Z",
     "start_time": "2024-03-01T15:16:45.817570100Z"
    }
   },
   "id": "90559cf982f63d95"
  },
  {
   "cell_type": "code",
   "execution_count": null,
   "outputs": [],
   "source": [],
   "metadata": {
    "collapsed": false
   },
   "id": "212cd38db5db3850"
  }
 ],
 "metadata": {
  "kernelspec": {
   "display_name": "Python 3",
   "language": "python",
   "name": "python3"
  },
  "language_info": {
   "codemirror_mode": {
    "name": "ipython",
    "version": 2
   },
   "file_extension": ".py",
   "mimetype": "text/x-python",
   "name": "python",
   "nbconvert_exporter": "python",
   "pygments_lexer": "ipython2",
   "version": "2.7.6"
  }
 },
 "nbformat": 4,
 "nbformat_minor": 5
}
