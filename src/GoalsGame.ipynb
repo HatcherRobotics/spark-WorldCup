{
 "cells": [
  {
   "cell_type": "markdown",
   "source": [
    "比赛进球数分析"
   ],
   "metadata": {
    "collapsed": false
   },
   "id": "cc8c666e4b6cf833"
  },
  {
   "cell_type": "code",
   "execution_count": 1,
   "id": "initial_id",
   "metadata": {
    "collapsed": true,
    "ExecuteTime": {
     "end_time": "2024-03-03T13:50:47.782916700Z",
     "start_time": "2024-03-03T13:50:42.225844900Z"
    }
   },
   "outputs": [
    {
     "data": {
      "text/plain": "Row(Year='1930.0', Datetime='13 Jul 1930 - 15:00 ', Stage='Group 1', Stadium='Pocitos', City='Montevideo ', Home Team Name='France', Home Team Goals='4.0', Away Team Goals='1.0', Away Team Name='Mexico', Attendance='4444.0', Half-time Home Goals='3.0', Half-time Away Goals='0.0', Referee='LOMBARDI Domingo (URU)', Assistant 1='CRISTOPHE Henry (BEL)', Assistant 2='REGO Gilberto (BRA)', RoundID='201.0', MatchID='1096.0', Home Team Initials='FRA', Away Team Initials='MEX')"
     },
     "execution_count": 1,
     "metadata": {},
     "output_type": "execute_result"
    }
   ],
   "source": [
    "from pyspark.sql import SparkSession\n",
    "spark = SparkSession.builder.getOrCreate()\n",
    "matches = spark.read.format(\"csv\").option(\"header\",True).option(\"encoding\",\"utf-8\").option(\"sep\",\",\").load(\"../dataset/WorldCupMatches.csv\")\n",
    "matches.head()"
   ]
  },
  {
   "cell_type": "code",
   "execution_count": 2,
   "outputs": [],
   "source": [
    "matches.createTempView(\"goalsGame\")"
   ],
   "metadata": {
    "collapsed": false,
    "ExecuteTime": {
     "end_time": "2024-03-03T13:50:49.440397300Z",
     "start_time": "2024-03-03T13:50:49.411913200Z"
    }
   },
   "id": "1cf100c8495959cd"
  },
  {
   "cell_type": "code",
   "execution_count": 3,
   "outputs": [
    {
     "name": "stdout",
     "output_type": "stream",
     "text": [
      "root\n",
      " |-- Year: string (nullable = true)\n",
      " |-- Datetime: string (nullable = true)\n",
      " |-- Stage: string (nullable = true)\n",
      " |-- Stadium: string (nullable = true)\n",
      " |-- City: string (nullable = true)\n",
      " |-- Home Team Name: string (nullable = true)\n",
      " |-- Home Team Goals: string (nullable = true)\n",
      " |-- Away Team Goals: string (nullable = true)\n",
      " |-- Away Team Name: string (nullable = true)\n",
      " |-- Attendance: string (nullable = true)\n",
      " |-- Half-time Home Goals: string (nullable = true)\n",
      " |-- Half-time Away Goals: string (nullable = true)\n",
      " |-- Referee: string (nullable = true)\n",
      " |-- Assistant 1: string (nullable = true)\n",
      " |-- Assistant 2: string (nullable = true)\n",
      " |-- RoundID: string (nullable = true)\n",
      " |-- MatchID: string (nullable = true)\n",
      " |-- Home Team Initials: string (nullable = true)\n",
      " |-- Away Team Initials: string (nullable = true)\n"
     ]
    }
   ],
   "source": [
    "matches.printSchema()"
   ],
   "metadata": {
    "collapsed": false,
    "ExecuteTime": {
     "end_time": "2024-03-03T13:50:50.831679700Z",
     "start_time": "2024-03-03T13:50:50.825471800Z"
    }
   },
   "id": "50cc8a1c10af8ef1"
  },
  {
   "cell_type": "code",
   "execution_count": 4,
   "outputs": [],
   "source": [
    "top10_goals_match = spark.sql('''\n",
    "SELECT * FROM goalsGame ORDER BY CAST(`Home Team Goals` AS INTEGER)+CAST(`Away Team Goals` AS INTEGER) DESC LIMIT 10\n",
    "''')"
   ],
   "metadata": {
    "collapsed": false,
    "ExecuteTime": {
     "end_time": "2024-03-03T13:50:51.729684700Z",
     "start_time": "2024-03-03T13:50:51.680937Z"
    }
   },
   "id": "a34c7003d0fc1a16"
  },
  {
   "cell_type": "code",
   "execution_count": 5,
   "outputs": [
    {
     "name": "stdout",
     "output_type": "stream",
     "text": [
      "+------+--------------------+--------------------+------------------+--------------+--------------+---------------+---------------+--------------+----------+--------------------+--------------------+--------------------+--------------------+--------------------+-------+-------+------------------+------------------+\n",
      "|  Year|            Datetime|               Stage|           Stadium|          City|Home Team Name|Home Team Goals|Away Team Goals|Away Team Name|Attendance|Half-time Home Goals|Half-time Away Goals|             Referee|         Assistant 1|         Assistant 2|RoundID|MatchID|Home Team Initials|Away Team Initials|\n",
      "+------+--------------------+--------------------+------------------+--------------+--------------+---------------+---------------+--------------+----------+--------------------+--------------------+--------------------+--------------------+--------------------+-------+-------+------------------+------------------+\n",
      "|1954.0|26 Jun 1954 - 17:00 |      Quarter-finals|       La Pontaise|     Lausanne |       Austria|            7.0|            5.0|   Switzerland|   35000.0|                 5.0|                 4.0|FAULTLESS Charlie...| ASENSI Manuel (ESP)|SCHMETZER Emil (FRG)|  212.0| 1237.0|               AUT|               SUI|\n",
      "|1938.0|05 Jun 1938 - 17:30 |         First round|Stade de la Meinau|   Strasbourg |        Brazil|            6.0|            5.0|        Poland|   13452.0|                 0.0|                 0.0|   EKLIND Ivan (SWE)|POISSANT Louis (FRA)|KISSENBERGER Erne...|  206.0| 1150.0|               BRA|               POL|\n",
      "|1954.0|20 Jun 1954 - 16:50 |             Group 2|         St. Jakob|        Basel |       Hungary|            8.0|            3.0|    Germany FR|   56000.0|                 3.0|                 1.0|  LING William (ENG)|SCHICKER Werner (...|GRIFFITHS Benjami...|  211.0| 1277.0|               HUN|               FRG|\n",
      "|1982.0|15 Jun 1982 - 21:00 |             Group 3|     Nuevo Estadio|        Elche |       Hungary|           10.0|            1.0|   El Salvador|   23000.0|                 3.0|                 0.0|AL DOY Ebrahim (BHR)|CORVER Charles (NED)|LUND-SORENSEN Hen...|  293.0|  896.0|               HUN|               SLV|\n",
      "|1958.0|08 Jun 1958 - 19:00 |             Group 2|     Idrottsparken|   Norrk�Ping |        France|            7.0|            3.0|      Paraguay|   16518.0|                 2.0|                 2.0|GARDEAZABAL Juan ...|GRIFFITHS Benjami...|   BROZZI Juan (ARG)|  220.0| 1386.0|               FRA|               PAR|\n",
      "|1930.0|19 Jul 1930 - 15:00 |             Group 1|Estadio Centenario|   Montevideo |     Argentina|            6.0|            3.0|        Mexico|   42100.0|                 3.0|                 1.0|SAUCEDO Ulises (BOL)|ALONSO Gualberto ...|RADULESCU Constan...|  201.0| 1086.0|               ARG|               MEX|\n",
      "|1954.0|23 Jun 1954 - 18:00 |             Group 2|          Hardturm|       Zurich |    Germany FR|            7.0|            2.0|        Turkey|   17000.0|                 3.0|                 1.0|VINCENTI Raymond ...|FAULTLESS Charlie...|DOERFLINGER Ernst...|  211.0| 1284.0|               FRG|               TUR|\n",
      "|1954.0|17 Jun 1954 - 18:00 |             Group 2|          Hardturm|       Zurich |       Hungary|            9.0|            0.0|Korea Republic|   13000.0|                 4.0|                 0.0|VINCENTI Raymond ...|VON GUNTER Albert...|  STEINER Carl (AUT)|  211.0| 1294.0|               HUN|               KOR|\n",
      "|1958.0|28 Jun 1958 - 17:00 |Match for third p...|        Nya Ullevi|   Gothenburg |        France|            6.0|            3.0|    Germany FR|   32483.0|                 3.0|                 1.0|   BROZZI Juan (ARG)|  ELLIS Arthur (ENG)| LUNDELL Bengt (SWE)| 3483.0| 1382.0|               FRA|               FRG|\n",
      "|1974.0|18 Jun 1974 - 19:30 |             Group 2|       Parkstadion|Gelsenkirchen |    Yugoslavia|            9.0|            0.0|         Zaire|   31700.0|                 6.0|                 0.0|  DELGADO Omar (COL)|LLOBREGAT Vicente...|BARRETO RUIZ Ramo...|  262.0| 2186.0|               YUG|               ZAI|\n",
      "+------+--------------------+--------------------+------------------+--------------+--------------+---------------+---------------+--------------+----------+--------------------+--------------------+--------------------+--------------------+--------------------+-------+-------+------------------+------------------+\n"
     ]
    }
   ],
   "source": [
    "top10_goals_match.write \\\n",
    "    .format(\"jdbc\") \\\n",
    "    .option(\"url\", \"jdbc:mysql://localhost:3306/worldcup\") \\\n",
    "    .option(\"dbtable\", \"top10_goals_match\") \\\n",
    "    .option(\"user\", \"root\") \\\n",
    "    .option(\"password\", \"\") \\\n",
    "    .option(\"driver\", \"com.mysql.cj.jdbc.Driver\") \\\n",
    "    .mode(\"append\") \\\n",
    "    .save()\n",
    "top10_goals_match.show()"
   ],
   "metadata": {
    "collapsed": false,
    "ExecuteTime": {
     "end_time": "2024-03-03T13:50:53.569152800Z",
     "start_time": "2024-03-03T13:50:52.845798800Z"
    }
   },
   "id": "b8e8a4e2ba2d799"
  },
  {
   "cell_type": "code",
   "execution_count": 6,
   "outputs": [],
   "source": [
    "top10_biggest_difference_match = spark.sql('''\n",
    "SELECT * FROM goalsGame ORDER BY ABS(CAST(`Home Team Goals` AS INTEGER)-CAST(`Away Team Goals` AS INTEGER)) DESC LIMIT 10\n",
    "''')"
   ],
   "metadata": {
    "collapsed": false,
    "ExecuteTime": {
     "end_time": "2024-03-03T13:50:54.478539100Z",
     "start_time": "2024-03-03T13:50:54.458354400Z"
    }
   },
   "id": "7904ba6fd162227e"
  },
  {
   "cell_type": "code",
   "execution_count": 7,
   "outputs": [
    {
     "name": "stdout",
     "output_type": "stream",
     "text": [
      "+------+--------------------+--------------+-----------------+---------------+--------------+---------------+---------------+--------------+----------+--------------------+--------------------+--------------------+--------------------+--------------------+----------+-----------+------------------+------------------+\n",
      "|  Year|            Datetime|         Stage|          Stadium|           City|Home Team Name|Home Team Goals|Away Team Goals|Away Team Name|Attendance|Half-time Home Goals|Half-time Away Goals|             Referee|         Assistant 1|         Assistant 2|   RoundID|    MatchID|Home Team Initials|Away Team Initials|\n",
      "+------+--------------------+--------------+-----------------+---------------+--------------+---------------+---------------+--------------+----------+--------------------+--------------------+--------------------+--------------------+--------------------+----------+-----------+------------------+------------------+\n",
      "|1954.0|17 Jun 1954 - 18:00 |       Group 2|         Hardturm|        Zurich |       Hungary|            9.0|            0.0|Korea Republic|   13000.0|                 4.0|                 0.0|VINCENTI Raymond ...|VON GUNTER Albert...|  STEINER Carl (AUT)|     211.0|     1294.0|               HUN|               KOR|\n",
      "|1974.0|18 Jun 1974 - 19:30 |       Group 2|      Parkstadion| Gelsenkirchen |    Yugoslavia|            9.0|            0.0|         Zaire|   31700.0|                 6.0|                 0.0|  DELGADO Omar (COL)|LLOBREGAT Vicente...|BARRETO RUIZ Ramo...|     262.0|     2186.0|               YUG|               ZAI|\n",
      "|1982.0|15 Jun 1982 - 21:00 |       Group 3|    Nuevo Estadio|         Elche |       Hungary|           10.0|            1.0|   El Salvador|   23000.0|                 3.0|                 0.0|AL DOY Ebrahim (BHR)|CORVER Charles (NED)|LUND-SORENSEN Hen...|     293.0|      896.0|               HUN|               SLV|\n",
      "|1938.0|12 Jun 1938 - 17:00 |Quarter-finals|      Fort Carree|       Antibes |        Sweden|            8.0|            0.0|          Cuba|    7000.0|                 4.0|                 0.0|  KRIST Gustav (TCH)|WEINGARTNER Karl ...|   SDEZ Victor (FRA)|     429.0|     1158.0|               SWE|               CUB|\n",
      "|1950.0|02 Jul 1950 - 15:00 |       Group 4|    Independencia|Belo Horizonte |       Uruguay|            8.0|            0.0|       Bolivia|    5284.0|                 4.0|                 0.0| READER George (ENG)|   VIANA Mario (BRA)|   LEMESIC Leo (YUG)|     208.0|     1185.0|               URU|               BOL|\n",
      "|2002.0|01 Jun 2002 - 20:30 |       Group E|     Sapporo Dome|       Sapporo |       Germany|            8.0|            0.0|  Saudi Arabia|   32218.0|                 4.0|                 0.0| AQUINO Ubaldo (PAR)|GIACOMUZZI Miguel...|RAGOONATH Michael...|43950100.0| 43950004.0|               GER|               KSA|\n",
      "|1974.0|19 Jun 1974 - 19:30 |       Group 4|   Olympiastadion|        Munich |         Haiti|            0.0|            7.0|        Poland|   25300.0|                 0.0|                 5.0|SUPPIAH George (SIN)|BIWERSI Ferdinand...|ESCHWEILER Walter...|     262.0|     2085.0|               HAI|               POL|\n",
      "|1954.0|20 Jun 1954 - 17:00 |       Group 2|       Charmilles|        Geneva |        Turkey|            7.0|            0.0|Korea Republic|    4000.0|                 4.0|                 0.0|MARINO Esteban (URU)|ORLANDINI Vincenz...|SCHONHOLZER Ernes...|     211.0|     1304.0|               TUR|               KOR|\n",
      "|1954.0|19 Jun 1954 - 16:50 |       Group 3|        St. Jakob|         Basel |       Uruguay|            7.0|            0.0|      Scotland|   34000.0|                 2.0|                 0.0|ORLANDINI Vincenz...| WYSSLING Paul (SUI)|  GUIDI Denilo (SUI)|     211.0|     1313.0|               URU|               SCO|\n",
      "|2010.0|21 Jun 2010 - 13:30 |       Group G|Cape Town Stadium|     Cape Town |      Portugal|            7.0|            0.0|     Korea DPR|   63644.0|                 1.0|                 0.0|    POZO Pablo (CHI)|BASUALTO Patricio...|MONDRIA Francisco...|  249722.0|300061487.0|               POR|               PRK|\n",
      "+------+--------------------+--------------+-----------------+---------------+--------------+---------------+---------------+--------------+----------+--------------------+--------------------+--------------------+--------------------+--------------------+----------+-----------+------------------+------------------+\n"
     ]
    }
   ],
   "source": [
    "top10_biggest_difference_match.write \\\n",
    "    .format(\"jdbc\") \\\n",
    "    .option(\"url\", \"jdbc:mysql://localhost:3306/worldcup\") \\\n",
    "    .option(\"dbtable\", \"top10_biggest_difference_match\") \\\n",
    "    .option(\"user\", \"root\") \\\n",
    "    .option(\"password\", \"\") \\\n",
    "    .option(\"driver\", \"com.mysql.cj.jdbc.Driver\") \\\n",
    "    .mode(\"append\") \\\n",
    "    .save()\n",
    "top10_biggest_difference_match.show()"
   ],
   "metadata": {
    "collapsed": false,
    "ExecuteTime": {
     "end_time": "2024-03-03T13:50:55.673329500Z",
     "start_time": "2024-03-03T13:50:55.480268200Z"
    }
   },
   "id": "ba004d4959622dc3"
  }
 ],
 "metadata": {
  "kernelspec": {
   "display_name": "Python 3",
   "language": "python",
   "name": "python3"
  },
  "language_info": {
   "codemirror_mode": {
    "name": "ipython",
    "version": 2
   },
   "file_extension": ".py",
   "mimetype": "text/x-python",
   "name": "python",
   "nbconvert_exporter": "python",
   "pygments_lexer": "ipython2",
   "version": "2.7.6"
  }
 },
 "nbformat": 4,
 "nbformat_minor": 5
}
