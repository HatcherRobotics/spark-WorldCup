{
 "cells": [
  {
   "cell_type": "markdown",
   "source": [
    "东道主进入半决赛/决赛/夺冠概率统计"
   ],
   "metadata": {
    "collapsed": false
   },
   "id": "133ce7f82ac0e8a6"
  },
  {
   "cell_type": "code",
   "execution_count": 1,
   "id": "initial_id",
   "metadata": {
    "collapsed": true,
    "ExecuteTime": {
     "end_time": "2024-03-03T13:58:57.837962300Z",
     "start_time": "2024-03-03T13:58:52.437662300Z"
    }
   },
   "outputs": [
    {
     "name": "stdout",
     "output_type": "stream",
     "text": [
      "root\n",
      " |-- Year: string (nullable = true)\n",
      " |-- HostCountry: string (nullable = true)\n",
      " |-- Winner: string (nullable = true)\n",
      " |-- Second: string (nullable = true)\n",
      " |-- Third: string (nullable = true)\n",
      " |-- Fourth: string (nullable = true)\n",
      " |-- GoalsScored: string (nullable = true)\n",
      " |-- QualifiedTeams: string (nullable = true)\n",
      " |-- MatchesPlayed: string (nullable = true)\n",
      " |-- Attendance: string (nullable = true)\n",
      " |-- HostContinent: string (nullable = true)\n",
      " |-- WinnerContinent: string (nullable = true)\n"
     ]
    }
   ],
   "source": [
    "from pyspark.sql import SparkSession\n",
    "spark = SparkSession.builder.getOrCreate()\n",
    "summary = spark.read.format(\"csv\").option(\"header\",True).option(\"encoding\",\"utf-8\").option(\"sep\",\",\").load(\"../dataset/WorldCupsSummary.csv\")\n",
    "summary.createTempView(\"summary_tb\")\n",
    "summary.printSchema()"
   ]
  },
  {
   "cell_type": "code",
   "execution_count": 2,
   "outputs": [],
   "source": [
    "hostInTop4_2_1 = spark.sql('''\n",
    "SELECT ROUND(SUM(IF(HostCountry=Winner,1,0))/COUNT(HostCountry),2) AS host_top1_prob,\n",
    "ROUND(\n",
    "(SUM(IF(HostCountry=Winner,1,0))\n",
    "+SUM(IF(HostCountry=Second,1,0)))\n",
    "/COUNT(HostCountry)\n",
    ",2) AS host_top2_prob,\n",
    "ROUND(\n",
    "(SUM(IF(HostCountry=Winner,1,0))\n",
    "+SUM(IF(HostCountry=Second,1,0))\n",
    "+SUM(IF(HostCountry=Third,1,0))\n",
    "+SUM(IF(HostCountry=Fourth,1,0)))\n",
    "/COUNT(HostCountry)\n",
    ",2) \n",
    "AS host_top4_prob FROM summary_tb\n",
    "''')"
   ],
   "metadata": {
    "collapsed": false,
    "ExecuteTime": {
     "end_time": "2024-03-03T13:59:04.466229400Z",
     "start_time": "2024-03-03T13:59:04.379182700Z"
    }
   },
   "id": "9ffa979d21d765dd"
  },
  {
   "cell_type": "code",
   "execution_count": 3,
   "outputs": [
    {
     "name": "stdout",
     "output_type": "stream",
     "text": [
      "+--------------+--------------+--------------+\n",
      "|host_top1_prob|host_top2_prob|host_top4_prob|\n",
      "+--------------+--------------+--------------+\n",
      "|          0.24|          0.33|          0.52|\n",
      "+--------------+--------------+--------------+\n"
     ]
    }
   ],
   "source": [
    "hostInTop4_2_1.write \\\n",
    "    .format(\"jdbc\") \\\n",
    "    .option(\"url\", \"jdbc:mysql://localhost:3306/worldcup\") \\\n",
    "    .option(\"dbtable\", \"hostInTop4_2_1\") \\\n",
    "    .option(\"user\", \"root\") \\\n",
    "    .option(\"password\", \"\") \\\n",
    "    .option(\"driver\", \"com.mysql.cj.jdbc.Driver\") \\\n",
    "    .mode(\"append\") \\\n",
    "    .save()\n",
    "hostInTop4_2_1.show()"
   ],
   "metadata": {
    "collapsed": false,
    "ExecuteTime": {
     "end_time": "2024-03-03T13:59:06.476089100Z",
     "start_time": "2024-03-03T13:59:05.477993400Z"
    }
   },
   "id": "bba1260fee2a7adc"
  }
 ],
 "metadata": {
  "kernelspec": {
   "display_name": "Python 3",
   "language": "python",
   "name": "python3"
  },
  "language_info": {
   "codemirror_mode": {
    "name": "ipython",
    "version": 2
   },
   "file_extension": ".py",
   "mimetype": "text/x-python",
   "name": "python",
   "nbconvert_exporter": "python",
   "pygments_lexer": "ipython2",
   "version": "2.7.6"
  }
 },
 "nbformat": 4,
 "nbformat_minor": 5
}
