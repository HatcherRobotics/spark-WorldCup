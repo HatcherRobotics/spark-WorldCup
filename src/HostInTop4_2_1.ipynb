{
 "cells": [
  {
   "cell_type": "markdown",
   "source": [
    "东道主进入半决赛/决赛/夺冠概率统计"
   ],
   "metadata": {
    "collapsed": false
   },
   "id": "133ce7f82ac0e8a6"
  },
  {
   "cell_type": "code",
   "execution_count": 1,
   "id": "initial_id",
   "metadata": {
    "collapsed": true,
    "ExecuteTime": {
     "end_time": "2024-03-01T16:47:09.931506900Z",
     "start_time": "2024-03-01T16:47:05.021763800Z"
    }
   },
   "outputs": [
    {
     "data": {
      "text/plain": "Row(Year='1930', HostCountry='Uruguay', Winner='Uruguay', Second='Argentina', Third='USA', Fourth='Yugoslavia', GoalsScored='70', QualifiedTeams='13', MatchesPlayed='18', Attendance='590549', HostContinent='America', WinnerContinent='America')"
     },
     "execution_count": 1,
     "metadata": {},
     "output_type": "execute_result"
    }
   ],
   "source": [
    "from pyspark.sql import SparkSession\n",
    "spark = SparkSession.builder.getOrCreate()\n",
    "summary = spark.read.format(\"csv\").option(\"header\",True).option(\"encoding\",\"utf-8\").option(\"sep\",\",\").load(\"../dataset/WorldCupsSummary.csv\")\n",
    "summary.createTempView(\"summary_tb\")\n",
    "summary.head()"
   ]
  },
  {
   "cell_type": "code",
   "execution_count": 13,
   "outputs": [
    {
     "name": "stdout",
     "output_type": "stream",
     "text": [
      "+--------------+--------------+--------------+\n",
      "|host_top1_prob|host_top2_prob|host_top4_prob|\n",
      "+--------------+--------------+--------------+\n",
      "|          0.24|          0.33|          0.52|\n",
      "+--------------+--------------+--------------+\n"
     ]
    }
   ],
   "source": [
    "spark.sql('''\n",
    "SELECT ROUND(SUM(IF(HostCountry=Winner,1,0))/COUNT(HostCountry),2) AS host_top1_prob,\n",
    "ROUND(\n",
    "(SUM(IF(HostCountry=Winner,1,0))\n",
    "+SUM(IF(HostCountry=Second,1,0)))\n",
    "/COUNT(HostCountry)\n",
    ",2) AS host_top2_prob,\n",
    "ROUND(\n",
    "(SUM(IF(HostCountry=Winner,1,0))\n",
    "+SUM(IF(HostCountry=Second,1,0))\n",
    "+SUM(IF(HostCountry=Third,1,0))\n",
    "+SUM(IF(HostCountry=Fourth,1,0)))\n",
    "/COUNT(HostCountry)\n",
    ",2) \n",
    "AS host_top4_prob FROM summary_tb\n",
    "''').show()"
   ],
   "metadata": {
    "collapsed": false,
    "ExecuteTime": {
     "end_time": "2024-03-01T17:06:42.217895600Z",
     "start_time": "2024-03-01T17:06:42.104656100Z"
    }
   },
   "id": "9ffa979d21d765dd"
  }
 ],
 "metadata": {
  "kernelspec": {
   "display_name": "Python 3",
   "language": "python",
   "name": "python3"
  },
  "language_info": {
   "codemirror_mode": {
    "name": "ipython",
    "version": 2
   },
   "file_extension": ".py",
   "mimetype": "text/x-python",
   "name": "python",
   "nbconvert_exporter": "python",
   "pygments_lexer": "ipython2",
   "version": "2.7.6"
  }
 },
 "nbformat": 4,
 "nbformat_minor": 5
}
