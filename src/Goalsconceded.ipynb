{
 "cells": [
  {
   "cell_type": "markdown",
   "source": [
    "失球数分析"
   ],
   "metadata": {
    "collapsed": false
   },
   "id": "b9a960b97544628d"
  },
  {
   "cell_type": "code",
   "execution_count": 1,
   "id": "initial_id",
   "metadata": {
    "collapsed": true,
    "ExecuteTime": {
     "end_time": "2024-03-03T13:43:14.519903Z",
     "start_time": "2024-03-03T13:43:08.818693300Z"
    }
   },
   "outputs": [
    {
     "name": "stdout",
     "output_type": "stream",
     "text": [
      "root\n",
      " |-- Year: string (nullable = true)\n",
      " |-- Datetime: string (nullable = true)\n",
      " |-- Stage: string (nullable = true)\n",
      " |-- Stadium: string (nullable = true)\n",
      " |-- City: string (nullable = true)\n",
      " |-- Home Team Name: string (nullable = true)\n",
      " |-- Home Team Goals: string (nullable = true)\n",
      " |-- Away Team Goals: string (nullable = true)\n",
      " |-- Away Team Name: string (nullable = true)\n",
      " |-- Attendance: string (nullable = true)\n",
      " |-- Half-time Home Goals: string (nullable = true)\n",
      " |-- Half-time Away Goals: string (nullable = true)\n",
      " |-- Referee: string (nullable = true)\n",
      " |-- Assistant 1: string (nullable = true)\n",
      " |-- Assistant 2: string (nullable = true)\n",
      " |-- RoundID: string (nullable = true)\n",
      " |-- MatchID: string (nullable = true)\n",
      " |-- Home Team Initials: string (nullable = true)\n",
      " |-- Away Team Initials: string (nullable = true)\n"
     ]
    }
   ],
   "source": [
    "from pyspark.sql import SparkSession\n",
    "spark = SparkSession.builder.getOrCreate()\n",
    "matches = spark.read.format(\"csv\").option(\"header\",True).option(\"encoding\",\"utf-8\").option(\"sep\",\",\").load(\"../dataset/WorldCupMatches.csv\")\n",
    "matches.createTempView(\"goalsGame\")\n",
    "matches.printSchema()"
   ]
  },
  {
   "cell_type": "code",
   "execution_count": 2,
   "outputs": [],
   "source": [
    "total_goals_conceded = spark.sql('''\n",
    "SELECT country,SUM(goals_conceded) AS goals_conceded FROM \n",
    "(SELECT `Home Team Name` AS country,SUM(CAST(`Away Team Goals` AS Integer)) AS goals_conceded FROM goalsGame GROUP BY country\n",
    " UNION ALL\n",
    "SELECT `Away Team Name` AS country,SUM(CAST(`Home Team Goals` AS Integer)) AS goals_conceded FROM goalsGame GROUP BY country ) t\n",
    "GROUP BY country ORDER BY goals_conceded DESC LIMIT 10\n",
    "''')"
   ],
   "metadata": {
    "collapsed": false,
    "ExecuteTime": {
     "end_time": "2024-03-03T13:43:15.824640900Z",
     "start_time": "2024-03-03T13:43:15.738382600Z"
    }
   },
   "id": "9e2a36976f2220a2"
  },
  {
   "cell_type": "code",
   "execution_count": 3,
   "outputs": [
    {
     "name": "stdout",
     "output_type": "stream",
     "text": [
      "+--------------+--------------+\n",
      "|       country|goals_conceded|\n",
      "+--------------+--------------+\n",
      "|        Brazil|           114|\n",
      "|        Mexico|            94|\n",
      "|     Argentina|            85|\n",
      "|         Italy|            77|\n",
      "|    Germany FR|            77|\n",
      "|       Uruguay|            73|\n",
      "|        France|            72|\n",
      "|        Sweden|            69|\n",
      "|       Belgium|            68|\n",
      "|Korea Republic|            67|\n",
      "+--------------+--------------+\n"
     ]
    }
   ],
   "source": [
    "total_goals_conceded.write \\\n",
    "    .format(\"jdbc\") \\\n",
    "    .option(\"url\", \"jdbc:mysql://localhost:3306/worldcup\") \\\n",
    "    .option(\"dbtable\", \"total_goals_conceded\") \\\n",
    "    .option(\"user\", \"root\") \\\n",
    "    .option(\"password\", \"\") \\\n",
    "    .option(\"driver\", \"com.mysql.cj.jdbc.Driver\") \\\n",
    "    .mode(\"append\") \\\n",
    "    .save()\n",
    "total_goals_conceded.show()"
   ],
   "metadata": {
    "collapsed": false,
    "ExecuteTime": {
     "end_time": "2024-03-03T13:43:18.374669700Z",
     "start_time": "2024-03-03T13:43:16.812413100Z"
    }
   },
   "id": "beb691f8f809d247"
  }
 ],
 "metadata": {
  "kernelspec": {
   "display_name": "Python 3",
   "language": "python",
   "name": "python3"
  },
  "language_info": {
   "codemirror_mode": {
    "name": "ipython",
    "version": 2
   },
   "file_extension": ".py",
   "mimetype": "text/x-python",
   "name": "python",
   "nbconvert_exporter": "python",
   "pygments_lexer": "ipython2",
   "version": "2.7.6"
  }
 },
 "nbformat": 4,
 "nbformat_minor": 5
}
