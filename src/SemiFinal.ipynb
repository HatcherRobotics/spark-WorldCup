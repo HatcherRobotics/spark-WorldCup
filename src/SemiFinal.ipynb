{
 "cells": [
  {
   "cell_type": "markdown",
   "source": [
    "半决赛（4强）队伍次数统计"
   ],
   "metadata": {
    "collapsed": false
   },
   "id": "b5139cc73beee51"
  },
  {
   "cell_type": "code",
   "execution_count": 1,
   "id": "initial_id",
   "metadata": {
    "collapsed": true,
    "ExecuteTime": {
     "end_time": "2024-03-03T14:07:33.247225800Z",
     "start_time": "2024-03-03T14:07:33.098169100Z"
    }
   },
   "outputs": [],
   "source": [
    "from pyspark.sql import SparkSession"
   ]
  },
  {
   "cell_type": "code",
   "execution_count": 2,
   "outputs": [],
   "source": [
    "spark = SparkSession.builder.appName(\"local[*]\").getOrCreate()\n",
    "summary = spark.read.format(\"csv\").option(\"header\",True).option(\"encoding\",\"utf-8\").option(\"sep\",\",\").load(\"../dataset/WorldCupsSummary.csv\")\n",
    "summary.createTempView(\"summary_tb\")"
   ],
   "metadata": {
    "collapsed": false,
    "ExecuteTime": {
     "end_time": "2024-03-03T14:07:39.176926700Z",
     "start_time": "2024-03-03T14:07:33.731972500Z"
    }
   },
   "id": "818e9bd1ffbe151c"
  },
  {
   "cell_type": "code",
   "execution_count": 3,
   "outputs": [
    {
     "name": "stdout",
     "output_type": "stream",
     "text": [
      "root\n",
      " |-- Year: string (nullable = true)\n",
      " |-- HostCountry: string (nullable = true)\n",
      " |-- Winner: string (nullable = true)\n",
      " |-- Second: string (nullable = true)\n",
      " |-- Third: string (nullable = true)\n",
      " |-- Fourth: string (nullable = true)\n",
      " |-- GoalsScored: string (nullable = true)\n",
      " |-- QualifiedTeams: string (nullable = true)\n",
      " |-- MatchesPlayed: string (nullable = true)\n",
      " |-- Attendance: string (nullable = true)\n",
      " |-- HostContinent: string (nullable = true)\n",
      " |-- WinnerContinent: string (nullable = true)\n"
     ]
    }
   ],
   "source": [
    "summary.printSchema()"
   ],
   "metadata": {
    "collapsed": false,
    "ExecuteTime": {
     "end_time": "2024-03-03T14:07:39.913466300Z",
     "start_time": "2024-03-03T14:07:39.909183Z"
    }
   },
   "id": "4c53190d5832025c"
  },
  {
   "cell_type": "code",
   "execution_count": 4,
   "outputs": [
    {
     "name": "stdout",
     "output_type": "stream",
     "text": [
      "+--------------+------+\n",
      "|       country|counts|\n",
      "+--------------+------+\n",
      "|        Brazil|    11|\n",
      "|    Germany FR|     8|\n",
      "|         Italy|     8|\n",
      "|        France|     6|\n",
      "|     Argentina|     5|\n",
      "|       Germany|     5|\n",
      "|       Uruguay|     5|\n",
      "|   Netherlands|     3|\n",
      "|       England|     3|\n",
      "|Czechoslovakia|     2|\n",
      "|       Hungary|     2|\n",
      "|        Poland|     2|\n",
      "|        Sweden|     2|\n",
      "|         Spain|     2|\n",
      "|    Yugoslavia|     2|\n",
      "|       Croatia|     1|\n",
      "|        Sweden|     1|\n",
      "|       Austria|     1|\n",
      "|       Belgium|     1|\n",
      "|         Chile|     1|\n",
      "+--------------+------+\n"
     ]
    }
   ],
   "source": [
    "semifinal_number = spark.sql('''\n",
    "SELECT IFNULL(IFNULL(t1.country,t2.country),IFNULL(t3.country,t4.country)) AS country,IFNULL(winner_counts,0)+IFNULL(second_counts,0)+IFNULL(third_counts,0)+IFNULL(fourth_counts,0) AS counts  FROM \n",
    "(SELECT  Winner AS country,COUNT(Winner) AS winner_counts FROM summary_tb\n",
    "GROUP BY Winner) t1\n",
    "FULL OUTER JOIN (\n",
    "SELECT  Second AS country,COUNT(Second)AS second_counts FROM summary_tb\n",
    "GROUP BY Second) t2 ON t1.country=t2.country\n",
    "FULL OUTER JOIN (\n",
    "SELECT  Third AS country,COUNT(Third)AS third_counts FROM summary_tb\n",
    "GROUP BY Third ) t3 ON t1.country = t3.country\n",
    "FULL OUTER JOIN (\n",
    "SELECT  Fourth AS country,COUNT(Fourth)AS fourth_counts FROM summary_tb\n",
    "GROUP BY Fourth) t4 ON t1.country = t4.country\n",
    "ORDER BY counts DESC\n",
    "''').show()"
   ],
   "metadata": {
    "collapsed": false,
    "ExecuteTime": {
     "end_time": "2024-03-03T14:07:41.781260400Z",
     "start_time": "2024-03-03T14:07:40.686106600Z"
    }
   },
   "id": "ba7008471c44a6df"
  },
  {
   "cell_type": "code",
   "execution_count": 5,
   "outputs": [],
   "source": [
    "semifinal_number_2 = spark.sql('''\n",
    "SELECT country,SUM(counts) AS counts FROM\n",
    "(SELECT  Winner AS country,COUNT(Winner) AS counts FROM summary_tb\n",
    "GROUP BY country\n",
    "UNION ALL\n",
    "SELECT Second AS country,COUNT(Second) AS counts FROM summary_tb\n",
    "GROUP BY country\n",
    "UNION ALL\n",
    "SELECT Third AS country,COUNT(Third) AS counts FROM summary_tb\n",
    "GROUP BY country\n",
    "UNION ALL\n",
    "SELECT Fourth AS country,COUNT(Fourth) AS counts FROM summary_tb\n",
    "GROUP BY country) t GROUP BY country ORDER BY counts DESC\n",
    "''')"
   ],
   "metadata": {
    "collapsed": false,
    "ExecuteTime": {
     "end_time": "2024-03-03T14:07:42.486703100Z",
     "start_time": "2024-03-03T14:07:42.457592200Z"
    }
   },
   "id": "16ac1ea913acbbe8"
  },
  {
   "cell_type": "code",
   "execution_count": 7,
   "outputs": [
    {
     "name": "stdout",
     "output_type": "stream",
     "text": [
      "+--------------+------+\n",
      "|       country|counts|\n",
      "+--------------+------+\n",
      "|        Brazil|    11|\n",
      "|         Italy|     8|\n",
      "|    Germany FR|     8|\n",
      "|        France|     6|\n",
      "|       Germany|     5|\n",
      "|     Argentina|     5|\n",
      "|       Uruguay|     5|\n",
      "|   Netherlands|     5|\n",
      "|        Sweden|     4|\n",
      "|       England|     3|\n",
      "|         Spain|     2|\n",
      "|Czechoslovakia|     2|\n",
      "|       Croatia|     2|\n",
      "|       Hungary|     2|\n",
      "|       Belgium|     2|\n",
      "|        Poland|     2|\n",
      "|      Portugal|     2|\n",
      "|       Austria|     2|\n",
      "|    Yugoslavia|     2|\n",
      "|        Turkey|     1|\n",
      "+--------------+------+\n"
     ]
    }
   ],
   "source": [
    "semifinal_number_2.write \\\n",
    "    .format(\"jdbc\") \\\n",
    "    .option(\"url\", \"jdbc:mysql://localhost:3306/worldcup\") \\\n",
    "    .option(\"dbtable\", \"semifinal_number\") \\\n",
    "    .option(\"user\", \"root\") \\\n",
    "    .option(\"password\", \"\") \\\n",
    "    .option(\"driver\", \"com.mysql.cj.jdbc.Driver\") \\\n",
    "    .mode(\"append\") \\\n",
    "    .save()\n",
    "semifinal_number_2.show()"
   ],
   "metadata": {
    "collapsed": false,
    "ExecuteTime": {
     "end_time": "2024-03-03T14:07:45.326062400Z",
     "start_time": "2024-03-03T14:07:44.317361500Z"
    }
   },
   "id": "da3232b1fb14e0e6"
  }
 ],
 "metadata": {
  "kernelspec": {
   "display_name": "Python 3",
   "language": "python",
   "name": "python3"
  },
  "language_info": {
   "codemirror_mode": {
    "name": "ipython",
    "version": 2
   },
   "file_extension": ".py",
   "mimetype": "text/x-python",
   "name": "python",
   "nbconvert_exporter": "python",
   "pygments_lexer": "ipython2",
   "version": "2.7.6"
  }
 },
 "nbformat": 4,
 "nbformat_minor": 5
}
