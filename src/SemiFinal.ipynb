{
 "cells": [
  {
   "cell_type": "markdown",
   "source": [
    "半决赛（4强）队伍次数统计"
   ],
   "metadata": {
    "collapsed": false
   },
   "id": "b5139cc73beee51"
  },
  {
   "cell_type": "code",
   "execution_count": 1,
   "id": "initial_id",
   "metadata": {
    "collapsed": true,
    "ExecuteTime": {
     "end_time": "2024-03-01T12:41:36.809782700Z",
     "start_time": "2024-03-01T12:41:36.712550700Z"
    }
   },
   "outputs": [],
   "source": [
    "from pyspark.sql import SparkSession"
   ]
  },
  {
   "cell_type": "code",
   "execution_count": null,
   "outputs": [],
   "source": [
    "spark = SparkSession.builder.appName(\"local[*]\").getOrCreate()\n",
    "summary = spark.read.format(\"csv\").option(\"header\",True).option(\"encoding\",\"utf-8\").option(\"sep\",\",\").load(\"../dataset/WorldCupsSummary.csv\")\n",
    "summary.createTempView(\"summary_tb\")"
   ],
   "metadata": {
    "collapsed": false
   },
   "id": "818e9bd1ffbe151c"
  },
  {
   "cell_type": "code",
   "execution_count": 6,
   "outputs": [
    {
     "data": {
      "text/plain": "[Row(Year='2018', HostCountry='Russia', Winner='France', Second='Croatia', Third='Belgium', Fourth='England', GoalsScored='169', QualifiedTeams='32', MatchesPlayed='64', Attendance='3031768', HostContinent='Europe', WinnerContinent='Europe')]"
     },
     "execution_count": 6,
     "metadata": {},
     "output_type": "execute_result"
    }
   ],
   "source": [
    "summary.tail(1)"
   ],
   "metadata": {
    "collapsed": false,
    "ExecuteTime": {
     "end_time": "2024-03-01T12:46:04.620406900Z",
     "start_time": "2024-03-01T12:46:04.519389300Z"
    }
   },
   "id": "4c53190d5832025c"
  },
  {
   "cell_type": "code",
   "execution_count": 12,
   "outputs": [
    {
     "data": {
      "text/plain": "Row(Year='1930', HostCountry='Uruguay', Winner='Uruguay', Second='Argentina', Third='USA', Fourth='Yugoslavia', GoalsScored='70', QualifiedTeams='13', MatchesPlayed='18', Attendance='590549', HostContinent='America', WinnerContinent='America')"
     },
     "execution_count": 12,
     "metadata": {},
     "output_type": "execute_result"
    }
   ],
   "source": [
    "summary.head()"
   ],
   "metadata": {
    "collapsed": false,
    "ExecuteTime": {
     "end_time": "2024-03-01T13:10:14.088555400Z",
     "start_time": "2024-03-01T13:10:14.041227600Z"
    }
   },
   "id": "6651d62098ac890c"
  },
  {
   "cell_type": "code",
   "execution_count": 28,
   "outputs": [
    {
     "name": "stdout",
     "output_type": "stream",
     "text": [
      "+--------------+------+\n",
      "|       country|counts|\n",
      "+--------------+------+\n",
      "|        Brazil|    11|\n",
      "|    Germany FR|     8|\n",
      "|         Italy|     8|\n",
      "|        France|     6|\n",
      "|     Argentina|     5|\n",
      "|       Germany|     5|\n",
      "|       Uruguay|     5|\n",
      "|   Netherlands|     3|\n",
      "|       England|     3|\n",
      "|Czechoslovakia|     2|\n",
      "|       Hungary|     2|\n",
      "|        Poland|     2|\n",
      "|        Sweden|     2|\n",
      "|         Spain|     2|\n",
      "|    Yugoslavia|     2|\n",
      "|       Croatia|     1|\n",
      "|        Sweden|     1|\n",
      "|       Austria|     1|\n",
      "|       Belgium|     1|\n",
      "|         Chile|     1|\n",
      "+--------------+------+\n"
     ]
    }
   ],
   "source": [
    "semifinal_number = spark.sql('''\n",
    "SELECT IFNULL(IFNULL(t1.country,t2.country),IFNULL(t3.country,t4.country)) AS country,IFNULL(winner_counts,0)+IFNULL(second_counts,0)+IFNULL(third_counts,0)+IFNULL(fourth_counts,0) AS counts  FROM \n",
    "(SELECT  Winner AS country,COUNT(Winner) AS winner_counts FROM summary_tb\n",
    "GROUP BY Winner) t1\n",
    "FULL OUTER JOIN (\n",
    "SELECT  Second AS country,COUNT(Second)AS second_counts FROM summary_tb\n",
    "GROUP BY Second) t2 ON t1.country=t2.country\n",
    "FULL OUTER JOIN (\n",
    "SELECT  Third AS country,COUNT(Third)AS third_counts FROM summary_tb\n",
    "GROUP BY Third ) t3 ON t1.country = t3.country\n",
    "FULL OUTER JOIN (\n",
    "SELECT  Fourth AS country,COUNT(Fourth)AS fourth_counts FROM summary_tb\n",
    "GROUP BY Fourth) t4 ON t1.country = t4.country\n",
    "ORDER BY counts DESC\n",
    "''').show()"
   ],
   "metadata": {
    "collapsed": false,
    "ExecuteTime": {
     "end_time": "2024-03-01T13:43:24.694972900Z",
     "start_time": "2024-03-01T13:43:24.447589Z"
    }
   },
   "id": "ba7008471c44a6df"
  },
  {
   "cell_type": "code",
   "execution_count": 31,
   "outputs": [
    {
     "name": "stdout",
     "output_type": "stream",
     "text": [
      "+--------------+------+\n",
      "|       country|counts|\n",
      "+--------------+------+\n",
      "|        Brazil|    11|\n",
      "|         Italy|     8|\n",
      "|    Germany FR|     8|\n",
      "|        France|     6|\n",
      "|       Germany|     5|\n",
      "|     Argentina|     5|\n",
      "|       Uruguay|     5|\n",
      "|   Netherlands|     5|\n",
      "|        Sweden|     4|\n",
      "|       England|     3|\n",
      "|         Spain|     2|\n",
      "|Czechoslovakia|     2|\n",
      "|       Croatia|     2|\n",
      "|       Hungary|     2|\n",
      "|       Belgium|     2|\n",
      "|        Poland|     2|\n",
      "|      Portugal|     2|\n",
      "|       Austria|     2|\n",
      "|    Yugoslavia|     2|\n",
      "|        Turkey|     1|\n",
      "+--------------+------+\n"
     ]
    }
   ],
   "source": [
    "semifinal_number_2 = spark.sql('''\n",
    "SELECT country,SUM(counts) AS counts FROM\n",
    "(SELECT  Winner AS country,COUNT(Winner) AS counts FROM summary_tb\n",
    "GROUP BY country\n",
    "UNION ALL\n",
    "SELECT Second AS country,COUNT(Second) AS counts FROM summary_tb\n",
    "GROUP BY country\n",
    "UNION ALL\n",
    "SELECT Third AS country,COUNT(Third) AS counts FROM summary_tb\n",
    "GROUP BY country\n",
    "UNION ALL\n",
    "SELECT Fourth AS country,COUNT(Fourth) AS counts FROM summary_tb\n",
    "GROUP BY country) t GROUP BY country ORDER BY counts DESC\n",
    "''').show()"
   ],
   "metadata": {
    "collapsed": false,
    "ExecuteTime": {
     "end_time": "2024-03-01T14:22:16.022359500Z",
     "start_time": "2024-03-01T14:22:15.664378700Z"
    }
   },
   "id": "16ac1ea913acbbe8"
  },
  {
   "cell_type": "code",
   "execution_count": 32,
   "outputs": [
    {
     "data": {
      "text/plain": "True"
     },
     "execution_count": 32,
     "metadata": {},
     "output_type": "execute_result"
    }
   ],
   "source": [
    "semifinal_number_2 == semifinal_number"
   ],
   "metadata": {
    "collapsed": false,
    "ExecuteTime": {
     "end_time": "2024-03-01T14:22:30.093336500Z",
     "start_time": "2024-03-01T14:22:30.086307300Z"
    }
   },
   "id": "c6a7e36c99029561"
  }
 ],
 "metadata": {
  "kernelspec": {
   "display_name": "Python 3",
   "language": "python",
   "name": "python3"
  },
  "language_info": {
   "codemirror_mode": {
    "name": "ipython",
    "version": 2
   },
   "file_extension": ".py",
   "mimetype": "text/x-python",
   "name": "python",
   "nbconvert_exporter": "python",
   "pygments_lexer": "ipython2",
   "version": "2.7.6"
  }
 },
 "nbformat": 4,
 "nbformat_minor": 5
}
