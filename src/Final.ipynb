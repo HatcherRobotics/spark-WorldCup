{
 "cells": [
  {
   "cell_type": "markdown",
   "source": [
    "决赛队伍次数统计"
   ],
   "metadata": {
    "collapsed": false
   },
   "id": "fcac062ed27a450f"
  },
  {
   "cell_type": "code",
   "execution_count": 1,
   "id": "initial_id",
   "metadata": {
    "collapsed": true,
    "ExecuteTime": {
     "end_time": "2024-03-03T13:37:58.022636300Z",
     "start_time": "2024-03-03T13:37:52.596185100Z"
    }
   },
   "outputs": [],
   "source": [
    "from pyspark.sql import SparkSession\n",
    "spark = SparkSession.builder.appName(\"local[*]\").getOrCreate()\n",
    "summary = spark.read.format(\"csv\").option(\"header\",True).option(\"encoding\",\"utf-8\").option(\"sep\",\",\").load(\"../dataset/WorldCupsSummary.csv\")"
   ]
  },
  {
   "cell_type": "code",
   "execution_count": 2,
   "outputs": [],
   "source": [
    "summary.createTempView(\"summary_tb\")"
   ],
   "metadata": {
    "collapsed": false,
    "ExecuteTime": {
     "end_time": "2024-03-03T13:38:00.141565900Z",
     "start_time": "2024-03-03T13:38:00.116610100Z"
    }
   },
   "id": "ec802a067a67a4e3"
  },
  {
   "cell_type": "code",
   "execution_count": 3,
   "outputs": [
    {
     "name": "stdout",
     "output_type": "stream",
     "text": [
      "root\n",
      " |-- Year: string (nullable = true)\n",
      " |-- HostCountry: string (nullable = true)\n",
      " |-- Winner: string (nullable = true)\n",
      " |-- Second: string (nullable = true)\n",
      " |-- Third: string (nullable = true)\n",
      " |-- Fourth: string (nullable = true)\n",
      " |-- GoalsScored: string (nullable = true)\n",
      " |-- QualifiedTeams: string (nullable = true)\n",
      " |-- MatchesPlayed: string (nullable = true)\n",
      " |-- Attendance: string (nullable = true)\n",
      " |-- HostContinent: string (nullable = true)\n",
      " |-- WinnerContinent: string (nullable = true)\n"
     ]
    }
   ],
   "source": [
    "summary.printSchema()"
   ],
   "metadata": {
    "collapsed": false,
    "ExecuteTime": {
     "end_time": "2024-03-03T13:38:00.674906600Z",
     "start_time": "2024-03-03T13:38:00.669314200Z"
    }
   },
   "id": "97ba9d36b2043a0e"
  },
  {
   "cell_type": "code",
   "execution_count": 4,
   "outputs": [],
   "source": [
    "finalNumber = spark.sql('''\n",
    "SELECT country,SUM(counts) AS  final_number FROM \n",
    "(SELECT Winner AS country,COUNT(Winner) AS counts FROM summary_tb GROUP BY country\n",
    "UNION ALL\n",
    "SELECT Second AS country,COUNT(Second) AS counts FROM summary_tb GROUP BY country)  GROUP BY country ORDER BY final_number DESC \n",
    "''')"
   ],
   "metadata": {
    "collapsed": false,
    "ExecuteTime": {
     "end_time": "2024-03-03T13:38:01.429980500Z",
     "start_time": "2024-03-03T13:38:01.352370200Z"
    }
   },
   "id": "d365a5bb7c6e6f66"
  },
  {
   "cell_type": "code",
   "execution_count": 5,
   "outputs": [],
   "source": [
    "finalNumber.write \\\n",
    "    .format(\"jdbc\") \\\n",
    "    .option(\"url\", \"jdbc:mysql://localhost:3306/worldcup\") \\\n",
    "    .option(\"dbtable\", \"finalNumber\") \\\n",
    "    .option(\"user\", \"root\") \\\n",
    "    .option(\"password\", \"\") \\\n",
    "    .option(\"driver\", \"com.mysql.cj.jdbc.Driver\") \\\n",
    "    .mode(\"append\") \\\n",
    "    .save()"
   ],
   "metadata": {
    "collapsed": false,
    "ExecuteTime": {
     "end_time": "2024-03-03T13:38:03.314469600Z",
     "start_time": "2024-03-03T13:38:02.187808400Z"
    }
   },
   "id": "7a148ec96d32824f"
  },
  {
   "cell_type": "code",
   "execution_count": 6,
   "outputs": [
    {
     "name": "stdout",
     "output_type": "stream",
     "text": [
      "+--------------+------------+\n",
      "|       country|final_number|\n",
      "+--------------+------------+\n",
      "|        Brazil|           7|\n",
      "|         Italy|           6|\n",
      "|    Germany FR|           6|\n",
      "|     Argentina|           5|\n",
      "|        France|           3|\n",
      "|   Netherlands|           3|\n",
      "|       Germany|           2|\n",
      "|       Uruguay|           2|\n",
      "|Czechoslovakia|           2|\n",
      "|       Hungary|           2|\n",
      "|         Spain|           1|\n",
      "|       England|           1|\n",
      "|        Sweden|           1|\n",
      "|       Croatia|           1|\n",
      "+--------------+------------+\n"
     ]
    }
   ],
   "source": [
    "finalNumber.show()"
   ],
   "metadata": {
    "collapsed": false,
    "ExecuteTime": {
     "end_time": "2024-03-03T13:38:04.263600300Z",
     "start_time": "2024-03-03T13:38:04.002653500Z"
    }
   },
   "id": "658c3b8f30132109"
  },
  {
   "cell_type": "code",
   "execution_count": null,
   "outputs": [],
   "source": [],
   "metadata": {
    "collapsed": false
   },
   "id": "b5d93fcbfa271117"
  }
 ],
 "metadata": {
  "kernelspec": {
   "display_name": "Python 3",
   "language": "python",
   "name": "python3"
  },
  "language_info": {
   "codemirror_mode": {
    "name": "ipython",
    "version": 2
   },
   "file_extension": ".py",
   "mimetype": "text/x-python",
   "name": "python",
   "nbconvert_exporter": "python",
   "pygments_lexer": "ipython2",
   "version": "2.7.6"
  }
 },
 "nbformat": 4,
 "nbformat_minor": 5
}
