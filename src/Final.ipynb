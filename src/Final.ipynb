{
 "cells": [
  {
   "cell_type": "markdown",
   "source": [
    "决赛队伍次数统计"
   ],
   "metadata": {
    "collapsed": false
   },
   "id": "fcac062ed27a450f"
  },
  {
   "cell_type": "code",
   "execution_count": 1,
   "id": "initial_id",
   "metadata": {
    "collapsed": true,
    "ExecuteTime": {
     "end_time": "2024-03-01T14:45:35.009741600Z",
     "start_time": "2024-03-01T14:45:29.540976600Z"
    }
   },
   "outputs": [],
   "source": [
    "from pyspark.sql import SparkSession\n",
    "spark = SparkSession.builder.appName(\"local[*]\").getOrCreate()\n",
    "summary = spark.read.format(\"csv\").option(\"header\",True).option(\"encoding\",\"utf-8\").option(\"sep\",\",\").load(\"../dataset/WorldCupsSummary.csv\")"
   ]
  },
  {
   "cell_type": "code",
   "execution_count": 2,
   "outputs": [],
   "source": [
    "summary.createTempView(\"summary_tb\")"
   ],
   "metadata": {
    "collapsed": false,
    "ExecuteTime": {
     "end_time": "2024-03-01T14:45:44.864267400Z",
     "start_time": "2024-03-01T14:45:44.822758700Z"
    }
   },
   "id": "ec802a067a67a4e3"
  },
  {
   "cell_type": "code",
   "execution_count": 3,
   "outputs": [
    {
     "data": {
      "text/plain": "Row(Year='1930', HostCountry='Uruguay', Winner='Uruguay', Second='Argentina', Third='USA', Fourth='Yugoslavia', GoalsScored='70', QualifiedTeams='13', MatchesPlayed='18', Attendance='590549', HostContinent='America', WinnerContinent='America')"
     },
     "execution_count": 3,
     "metadata": {},
     "output_type": "execute_result"
    }
   ],
   "source": [
    "summary.head()"
   ],
   "metadata": {
    "collapsed": false,
    "ExecuteTime": {
     "end_time": "2024-03-01T14:45:52.948884400Z",
     "start_time": "2024-03-01T14:45:52.848880500Z"
    }
   },
   "id": "97ba9d36b2043a0e"
  },
  {
   "cell_type": "code",
   "execution_count": 5,
   "outputs": [
    {
     "name": "stdout",
     "output_type": "stream",
     "text": [
      "+--------------+------------+\n",
      "|       country|final_number|\n",
      "+--------------+------------+\n",
      "|        Brazil|           7|\n",
      "|         Italy|           6|\n",
      "|    Germany FR|           6|\n",
      "|     Argentina|           5|\n",
      "|        France|           3|\n",
      "|   Netherlands|           3|\n",
      "|       Germany|           2|\n",
      "|       Uruguay|           2|\n",
      "|Czechoslovakia|           2|\n",
      "|       Hungary|           2|\n",
      "|         Spain|           1|\n",
      "|       England|           1|\n",
      "|        Sweden|           1|\n",
      "|       Croatia|           1|\n",
      "+--------------+------------+\n"
     ]
    }
   ],
   "source": [
    "finalNumber = spark.sql('''\n",
    "SELECT country,SUM(counts) AS  final_number FROM \n",
    "(SELECT Winner AS country,COUNT(Winner) AS counts FROM summary_tb GROUP BY country\n",
    "UNION ALL\n",
    "SELECT Second AS country,COUNT(Second) AS counts FROM summary_tb GROUP BY country)  GROUP BY country ORDER BY final_number DESC \n",
    "''').show()"
   ],
   "metadata": {
    "collapsed": false,
    "ExecuteTime": {
     "end_time": "2024-03-01T14:50:48.572587200Z",
     "start_time": "2024-03-01T14:50:47.956201600Z"
    }
   },
   "id": "d365a5bb7c6e6f66"
  }
 ],
 "metadata": {
  "kernelspec": {
   "display_name": "Python 3",
   "language": "python",
   "name": "python3"
  },
  "language_info": {
   "codemirror_mode": {
    "name": "ipython",
    "version": 2
   },
   "file_extension": ".py",
   "mimetype": "text/x-python",
   "name": "python",
   "nbconvert_exporter": "python",
   "pygments_lexer": "ipython2",
   "version": "2.7.6"
  }
 },
 "nbformat": 4,
 "nbformat_minor": 5
}
