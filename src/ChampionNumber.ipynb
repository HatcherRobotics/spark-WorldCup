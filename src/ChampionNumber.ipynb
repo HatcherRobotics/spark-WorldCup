{
 "cells": [
  {
   "cell_type": "markdown",
   "source": [
    "夺冠次数分析"
   ],
   "metadata": {
    "collapsed": false
   },
   "id": "96400490b8ea9289"
  },
  {
   "cell_type": "code",
   "execution_count": 1,
   "outputs": [],
   "source": [
    "from pyspark.sql import SparkSession"
   ],
   "metadata": {
    "collapsed": false,
    "ExecuteTime": {
     "end_time": "2024-03-03T13:33:29.028527900Z",
     "start_time": "2024-03-03T13:33:28.946040500Z"
    }
   },
   "id": "c50461db43503884"
  },
  {
   "cell_type": "code",
   "execution_count": 2,
   "id": "initial_id",
   "metadata": {
    "collapsed": true,
    "ExecuteTime": {
     "end_time": "2024-03-03T13:33:34.521289600Z",
     "start_time": "2024-03-03T13:33:29.575041Z"
    }
   },
   "outputs": [],
   "source": [
    "spark = SparkSession.builder.appName(\"local[*]\").getOrCreate()\n",
    "summary = spark.read.format(\"csv\").option(\"header\",True).option(\"encoding\",\"utf-8\").option(\"sep\",\",\").load(\"../dataset/WorldCupsSummary.csv\")\n",
    "players = spark.read.format(\"csv\").option(\"header\",True).option(\"encoding\",\"utf-8\").option(\"sep\",\",\").load(\"../dataset/WorldCupPlayers.csv\")\n",
    "matches = spark.read.format(\"csv\").option(\"header\",True).option(\"encoding\",\"utf-8\").option(\"sep\",\",\").load(\"../dataset/WorldCupMatches.csv\")\n",
    "summary.createTempView(\"summary_tb\")"
   ]
  },
  {
   "cell_type": "code",
   "execution_count": 3,
   "outputs": [
    {
     "data": {
      "text/plain": "Row(Year='1930', HostCountry='Uruguay', Winner='Uruguay', Second='Argentina', Third='USA', Fourth='Yugoslavia', GoalsScored='70', QualifiedTeams='13', MatchesPlayed='18', Attendance='590549', HostContinent='America', WinnerContinent='America')"
     },
     "execution_count": 3,
     "metadata": {},
     "output_type": "execute_result"
    }
   ],
   "source": [
    "summary.head()"
   ],
   "metadata": {
    "collapsed": false,
    "ExecuteTime": {
     "end_time": "2024-03-03T13:33:35.395183700Z",
     "start_time": "2024-03-03T13:33:35.294675100Z"
    }
   },
   "id": "1a52acf90634d06a"
  },
  {
   "cell_type": "code",
   "execution_count": 4,
   "outputs": [],
   "source": [
    "championNumber = spark.sql('''\n",
    "SELECT Winner,COUNT(Winner) AS champion_number FROM summary_tb GROUP BY Winner ORDER BY champion_number DESC\n",
    "''')"
   ],
   "metadata": {
    "collapsed": false,
    "ExecuteTime": {
     "end_time": "2024-03-03T13:33:36.178655800Z",
     "start_time": "2024-03-03T13:33:36.127502300Z"
    }
   },
   "id": "e453c2f29121178b"
  },
  {
   "cell_type": "code",
   "execution_count": 5,
   "outputs": [],
   "source": [
    "championNumber.write \\\n",
    "    .format(\"jdbc\") \\\n",
    "    .option(\"url\", \"jdbc:mysql://localhost:3306/worldcup\") \\\n",
    "    .option(\"dbtable\", \"championNumber\") \\\n",
    "    .option(\"user\", \"root\") \\\n",
    "    .option(\"password\", \"\") \\\n",
    "    .option(\"driver\", \"com.mysql.cj.jdbc.Driver\") \\\n",
    "    .mode(\"append\") \\\n",
    "    .save()"
   ],
   "metadata": {
    "collapsed": false,
    "ExecuteTime": {
     "end_time": "2024-03-03T13:33:38.514429600Z",
     "start_time": "2024-03-03T13:33:37.238567200Z"
    }
   },
   "id": "efa5fb44796d41df"
  },
  {
   "cell_type": "code",
   "execution_count": 6,
   "outputs": [
    {
     "name": "stdout",
     "output_type": "stream",
     "text": [
      "+----------+---------------+\n",
      "|    Winner|champion_number|\n",
      "+----------+---------------+\n",
      "|    Brazil|              5|\n",
      "|     Italy|              4|\n",
      "|Germany FR|              3|\n",
      "|    France|              2|\n",
      "| Argentina|              2|\n",
      "|   Uruguay|              2|\n",
      "|   Germany|              1|\n",
      "|     Spain|              1|\n",
      "|   England|              1|\n",
      "+----------+---------------+\n"
     ]
    }
   ],
   "source": [
    "championNumber.show()"
   ],
   "metadata": {
    "collapsed": false,
    "ExecuteTime": {
     "end_time": "2024-03-03T13:33:41.276840300Z",
     "start_time": "2024-03-03T13:33:41.149580900Z"
    }
   },
   "id": "ae40c804dd42cd"
  }
 ],
 "metadata": {
  "kernelspec": {
   "display_name": "Python 3",
   "language": "python",
   "name": "python3"
  },
  "language_info": {
   "codemirror_mode": {
    "name": "ipython",
    "version": 2
   },
   "file_extension": ".py",
   "mimetype": "text/x-python",
   "name": "python",
   "nbconvert_exporter": "python",
   "pygments_lexer": "ipython2",
   "version": "2.7.6"
  }
 },
 "nbformat": 4,
 "nbformat_minor": 5
}
