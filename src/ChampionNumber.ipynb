{
 "cells": [
  {
   "cell_type": "markdown",
   "source": [
    "夺冠次数分析"
   ],
   "metadata": {
    "collapsed": false
   },
   "id": "96400490b8ea9289"
  },
  {
   "cell_type": "code",
   "execution_count": 3,
   "outputs": [],
   "source": [
    "from pyspark.sql import SparkSession"
   ],
   "metadata": {
    "collapsed": false,
    "ExecuteTime": {
     "end_time": "2024-03-01T12:25:11.094623100Z",
     "start_time": "2024-03-01T12:25:11.091428400Z"
    }
   },
   "id": "c50461db43503884"
  },
  {
   "cell_type": "code",
   "execution_count": 4,
   "id": "initial_id",
   "metadata": {
    "collapsed": true,
    "ExecuteTime": {
     "end_time": "2024-03-01T12:25:12.644952700Z",
     "start_time": "2024-03-01T12:25:12.233913100Z"
    }
   },
   "outputs": [],
   "source": [
    "spark = SparkSession.builder.appName(\"local[*]\").getOrCreate()\n",
    "summary = spark.read.format(\"csv\").option(\"header\",True).option(\"encoding\",\"utf-8\").option(\"sep\",\",\").load(\"../dataset/WorldCupsSummary.csv\")\n",
    "players = spark.read.format(\"csv\").option(\"header\",True).option(\"encoding\",\"utf-8\").option(\"sep\",\",\").load(\"../dataset/WorldCupPlayers.csv\")\n",
    "matches = spark.read.format(\"csv\").option(\"header\",True).option(\"encoding\",\"utf-8\").option(\"sep\",\",\").load(\"../dataset/WorldCupMatches.csv\")\n",
    "summary.createTempView(\"summary_tb\")"
   ]
  },
  {
   "cell_type": "code",
   "execution_count": 5,
   "outputs": [
    {
     "data": {
      "text/plain": "Row(Year='1930', HostCountry='Uruguay', Winner='Uruguay', Second='Argentina', Third='USA', Fourth='Yugoslavia', GoalsScored='70', QualifiedTeams='13', MatchesPlayed='18', Attendance='590549', HostContinent='America', WinnerContinent='America')"
     },
     "execution_count": 5,
     "metadata": {},
     "output_type": "execute_result"
    }
   ],
   "source": [
    "summary.head()"
   ],
   "metadata": {
    "collapsed": false,
    "ExecuteTime": {
     "end_time": "2024-03-01T12:25:13.592763900Z",
     "start_time": "2024-03-01T12:25:13.514837300Z"
    }
   },
   "id": "1a52acf90634d06a"
  },
  {
   "cell_type": "code",
   "execution_count": 9,
   "outputs": [],
   "source": [
    "championNumber = spark.sql('''\n",
    "SELECT Winner,COUNT(Winner) AS champion_number FROM summary_tb GROUP BY Winner ORDER BY champion_number DESC\n",
    "''')"
   ],
   "metadata": {
    "collapsed": false,
    "ExecuteTime": {
     "end_time": "2024-03-01T13:17:34.611049600Z",
     "start_time": "2024-03-01T13:17:34.595678100Z"
    }
   },
   "id": "e453c2f29121178b"
  },
  {
   "cell_type": "code",
   "execution_count": 7,
   "outputs": [
    {
     "name": "stdout",
     "output_type": "stream",
     "text": [
      "+----------+---------------+\n",
      "|    Winner|champion_number|\n",
      "+----------+---------------+\n",
      "|    Brazil|              5|\n",
      "|     Italy|              4|\n",
      "|Germany FR|              3|\n",
      "|    France|              2|\n",
      "| Argentina|              2|\n",
      "|   Uruguay|              2|\n",
      "|   Germany|              1|\n",
      "|     Spain|              1|\n",
      "|   England|              1|\n",
      "+----------+---------------+\n"
     ]
    }
   ],
   "source": [
    "championNumber.show()"
   ],
   "metadata": {
    "collapsed": false,
    "ExecuteTime": {
     "end_time": "2024-03-01T12:36:56.795038300Z",
     "start_time": "2024-03-01T12:36:56.308140500Z"
    }
   },
   "id": "ae40c804dd42cd"
  },
  {
   "cell_type": "code",
   "execution_count": null,
   "outputs": [],
   "source": [],
   "metadata": {
    "collapsed": false
   },
   "id": "aa6e4765c8e11a8b"
  }
 ],
 "metadata": {
  "kernelspec": {
   "display_name": "Python 3",
   "language": "python",
   "name": "python3"
  },
  "language_info": {
   "codemirror_mode": {
    "name": "ipython",
    "version": 2
   },
   "file_extension": ".py",
   "mimetype": "text/x-python",
   "name": "python",
   "nbconvert_exporter": "python",
   "pygments_lexer": "ipython2",
   "version": "2.7.6"
  }
 },
 "nbformat": 4,
 "nbformat_minor": 5
}
