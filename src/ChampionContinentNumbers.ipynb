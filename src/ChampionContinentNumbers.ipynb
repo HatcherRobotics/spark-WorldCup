{
 "cells": [
  {
   "cell_type": "markdown",
   "source": [
    "夺冠队伍所在大洲分布"
   ],
   "metadata": {
    "collapsed": false
   },
   "id": "7969374fa7520d24"
  },
  {
   "cell_type": "code",
   "execution_count": 1,
   "id": "initial_id",
   "metadata": {
    "collapsed": true,
    "ExecuteTime": {
     "end_time": "2024-03-01T15:26:05.402793Z",
     "start_time": "2024-03-01T15:26:00.430331200Z"
    }
   },
   "outputs": [
    {
     "data": {
      "text/plain": "Row(Year='1930', HostCountry='Uruguay', Winner='Uruguay', Second='Argentina', Third='USA', Fourth='Yugoslavia', GoalsScored='70', QualifiedTeams='13', MatchesPlayed='18', Attendance='590549', HostContinent='America', WinnerContinent='America')"
     },
     "execution_count": 1,
     "metadata": {},
     "output_type": "execute_result"
    }
   ],
   "source": [
    "from pyspark.sql import SparkSession\n",
    "spark = SparkSession.builder.getOrCreate()\n",
    "summary = spark.read.format(\"csv\").option(\"header\",True).option(\"encoding\",\"utf-8\").option(\"sep\",\",\").load(\"../dataset/WorldCupsSummary.csv\")\n",
    "summary.createTempView(\"summary_tb\")\n",
    "summary.head()"
   ]
  },
  {
   "cell_type": "code",
   "execution_count": 8,
   "outputs": [
    {
     "name": "stdout",
     "output_type": "stream",
     "text": [
      "+---------+------+----------+\n",
      "|continent|counts|percentage|\n",
      "+---------+------+----------+\n",
      "|   Europe|    12|     57.14|\n",
      "|  America|     9|     42.86|\n",
      "+---------+------+----------+\n"
     ]
    }
   ],
   "source": [
    "continent_champion = spark.sql('''\n",
    "SELECT continent,counts,ROUND ((counts/SUM(counts) OVER())*100,2) AS percentage FROM\n",
    "(SELECT WinnerContinent AS continent ,COUNT(WinnerContinent) AS counts FROM summary_tb GROUP BY WinnerContinent) t ORDER BY counts DESC\n",
    "''').show()"
   ],
   "metadata": {
    "collapsed": false,
    "ExecuteTime": {
     "end_time": "2024-03-01T16:12:06.495860900Z",
     "start_time": "2024-03-01T16:12:06.327948100Z"
    }
   },
   "id": "37e45dd31b0b6236"
  }
 ],
 "metadata": {
  "kernelspec": {
   "display_name": "Python 3",
   "language": "python",
   "name": "python3"
  },
  "language_info": {
   "codemirror_mode": {
    "name": "ipython",
    "version": 2
   },
   "file_extension": ".py",
   "mimetype": "text/x-python",
   "name": "python",
   "nbconvert_exporter": "python",
   "pygments_lexer": "ipython2",
   "version": "2.7.6"
  }
 },
 "nbformat": 4,
 "nbformat_minor": 5
}
