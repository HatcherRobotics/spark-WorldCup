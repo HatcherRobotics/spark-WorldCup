{
 "cells": [
  {
   "cell_type": "markdown",
   "source": [
    "夺冠队伍所在大洲分布"
   ],
   "metadata": {
    "collapsed": false
   },
   "id": "7969374fa7520d24"
  },
  {
   "cell_type": "code",
   "execution_count": 1,
   "id": "initial_id",
   "metadata": {
    "collapsed": true,
    "ExecuteTime": {
     "end_time": "2024-03-03T13:34:38.925258Z",
     "start_time": "2024-03-03T13:34:33.941146100Z"
    }
   },
   "outputs": [
    {
     "data": {
      "text/plain": "Row(Year='1930', HostCountry='Uruguay', Winner='Uruguay', Second='Argentina', Third='USA', Fourth='Yugoslavia', GoalsScored='70', QualifiedTeams='13', MatchesPlayed='18', Attendance='590549', HostContinent='America', WinnerContinent='America')"
     },
     "execution_count": 1,
     "metadata": {},
     "output_type": "execute_result"
    }
   ],
   "source": [
    "from pyspark.sql import SparkSession\n",
    "spark = SparkSession.builder.getOrCreate()\n",
    "summary = spark.read.format(\"csv\").option(\"header\",True).option(\"encoding\",\"utf-8\").option(\"sep\",\",\").load(\"../dataset/WorldCupsSummary.csv\")\n",
    "summary.createTempView(\"summary_tb\")\n",
    "summary.head()"
   ]
  },
  {
   "cell_type": "code",
   "execution_count": 2,
   "outputs": [],
   "source": [
    "continent_champion = spark.sql('''\n",
    "SELECT continent,counts,ROUND ((counts/SUM(counts) OVER())*100,2) AS percentage FROM\n",
    "(SELECT WinnerContinent AS continent ,COUNT(WinnerContinent) AS counts FROM summary_tb GROUP BY WinnerContinent) t ORDER BY counts DESC\n",
    "''')"
   ],
   "metadata": {
    "collapsed": false,
    "ExecuteTime": {
     "end_time": "2024-03-03T13:34:40.088531300Z",
     "start_time": "2024-03-03T13:34:40.005985800Z"
    }
   },
   "id": "37e45dd31b0b6236"
  },
  {
   "cell_type": "code",
   "execution_count": 5,
   "outputs": [],
   "source": [
    "continent_champion.write \\\n",
    "    .format(\"jdbc\") \\\n",
    "    .option(\"url\", \"jdbc:mysql://localhost:3306/worldcup\") \\\n",
    "    .option(\"dbtable\", \"continent_champion\") \\\n",
    "    .option(\"user\", \"root\") \\\n",
    "    .option(\"password\", \"\") \\\n",
    "    .option(\"driver\", \"com.mysql.cj.jdbc.Driver\")\\\n",
    "    .mode(\"append\") \\\n",
    "    .save()"
   ],
   "metadata": {
    "collapsed": false,
    "ExecuteTime": {
     "end_time": "2024-03-03T13:35:08.291726500Z",
     "start_time": "2024-03-03T13:35:08.018303200Z"
    }
   },
   "id": "ae62db4176e30b23"
  },
  {
   "cell_type": "code",
   "execution_count": 6,
   "outputs": [
    {
     "name": "stdout",
     "output_type": "stream",
     "text": [
      "+---------+------+----------+\n",
      "|continent|counts|percentage|\n",
      "+---------+------+----------+\n",
      "|   Europe|    12|     57.14|\n",
      "|  America|     9|     42.86|\n",
      "+---------+------+----------+\n"
     ]
    }
   ],
   "source": [
    "continent_champion.show()"
   ],
   "metadata": {
    "collapsed": false,
    "ExecuteTime": {
     "end_time": "2024-03-03T13:35:09.277545500Z",
     "start_time": "2024-03-03T13:35:09.152828700Z"
    }
   },
   "id": "7e7b5264a4aa39b4"
  }
 ],
 "metadata": {
  "kernelspec": {
   "display_name": "Python 3",
   "language": "python",
   "name": "python3"
  },
  "language_info": {
   "codemirror_mode": {
    "name": "ipython",
    "version": 2
   },
   "file_extension": ".py",
   "mimetype": "text/x-python",
   "name": "python",
   "nbconvert_exporter": "python",
   "pygments_lexer": "ipython2",
   "version": "2.7.6"
  }
 },
 "nbformat": 4,
 "nbformat_minor": 5
}
